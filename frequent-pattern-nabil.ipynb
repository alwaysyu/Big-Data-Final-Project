{
 "cells": [
  {
   "cell_type": "code",
   "execution_count": 1,
   "id": "0a4e80d0-c119-4edc-9f1a-dd3f02e77a68",
   "metadata": {
    "execution": {
     "iopub.execute_input": "2022-06-08T08:32:13.435509Z",
     "iopub.status.busy": "2022-06-08T08:32:13.434339Z",
     "iopub.status.idle": "2022-06-08T08:33:19.284814Z",
     "shell.execute_reply": "2022-06-08T08:33:19.283679Z",
     "shell.execute_reply.started": "2022-06-08T08:32:13.435446Z"
    },
    "tags": []
   },
   "outputs": [
    {
     "data": {
      "application/vnd.jupyter.widget-view+json": {
       "model_id": "bedfdc6571f842c6bfda39f34a6f2258",
       "version_major": 2,
       "version_minor": 0
      },
      "text/plain": [
       "VBox()"
      ]
     },
     "metadata": {},
     "output_type": "display_data"
    },
    {
     "name": "stdout",
     "output_type": "stream",
     "text": [
      "Starting Spark application\n"
     ]
    },
    {
     "data": {
      "text/html": [
       "<table>\n",
       "<tr><th>ID</th><th>YARN Application ID</th><th>Kind</th><th>State</th><th>Spark UI</th><th>Driver log</th><th>User</th><th>Current session?</th></tr><tr><td>3</td><td>application_1654670452059_0004</td><td>pyspark</td><td>idle</td><td><a target=\"_blank\" href=\"http://ip-172-31-49-211.ec2.internal:20888/proxy/application_1654670452059_0004/\" class=\"emr-proxy-link\" emr-resource=\"j-EUJXOZK7GKJ\n",
       "\" application-id=\"application_1654670452059_0004\">Link</a></td><td><a target=\"_blank\" href=\"http://ip-172-31-53-178.ec2.internal:8042/node/containerlogs/container_1654670452059_0004_01_000001/livy\" >Link</a></td><td>None</td><td>✔</td></tr></table>"
      ],
      "text/plain": [
       "<IPython.core.display.HTML object>"
      ]
     },
     "metadata": {},
     "output_type": "display_data"
    },
    {
     "data": {
      "application/vnd.jupyter.widget-view+json": {
       "model_id": "",
       "version_major": 2,
       "version_minor": 0
      },
      "text/plain": [
       "FloatProgress(value=0.0, bar_style='info', description='Progress:', layout=Layout(height='25px', width='50%'),…"
      ]
     },
     "metadata": {},
     "output_type": "display_data"
    },
    {
     "name": "stdout",
     "output_type": "stream",
     "text": [
      "SparkSession available as 'spark'.\n"
     ]
    },
    {
     "data": {
      "application/vnd.jupyter.widget-view+json": {
       "model_id": "",
       "version_major": 2,
       "version_minor": 0
      },
      "text/plain": [
       "FloatProgress(value=0.0, bar_style='info', description='Progress:', layout=Layout(height='25px', width='50%'),…"
      ]
     },
     "metadata": {},
     "output_type": "display_data"
    }
   ],
   "source": [
    "from pyspark.sql import SparkSession\n",
    "from pyspark.sql.functions import *\n",
    "from pyspark.ml.fpm import FPGrowth\n",
    "import functools"
   ]
  },
  {
   "cell_type": "code",
   "execution_count": 34,
   "id": "cbb2f1aa-93d4-47ed-b755-d629057443af",
   "metadata": {
    "execution": {
     "iopub.execute_input": "2022-06-08T09:25:24.473579Z",
     "iopub.status.busy": "2022-06-08T09:25:24.471608Z",
     "iopub.status.idle": "2022-06-08T09:25:24.591016Z",
     "shell.execute_reply": "2022-06-08T09:25:24.590037Z",
     "shell.execute_reply.started": "2022-06-08T09:25:24.473542Z"
    },
    "tags": []
   },
   "outputs": [
    {
     "data": {
      "application/vnd.jupyter.widget-view+json": {
       "model_id": "7b75f9e2a1b2422ab86831e511003236",
       "version_major": 2,
       "version_minor": 0
      },
      "text/plain": [
       "VBox()"
      ]
     },
     "metadata": {},
     "output_type": "display_data"
    },
    {
     "data": {
      "application/vnd.jupyter.widget-view+json": {
       "model_id": "",
       "version_major": 2,
       "version_minor": 0
      },
      "text/plain": [
       "FloatProgress(value=0.0, bar_style='info', description='Progress:', layout=Layout(height='25px', width='50%'),…"
      ]
     },
     "metadata": {},
     "output_type": "display_data"
    }
   ],
   "source": [
    "S3_DATA_SOURCE_PATH = \"s3://nabil-fikri-9191919122/data-source/2020-Jan.csv\"\n",
    "S3_DATA_SOURCE_PATH_1 = \"s3://nabil-fikri-9191919122/data-source/2020-Feb.csv\"\n",
    "S3_DATA_SOURCE_PATH_2 = \"s3://nabil-fikri-9191919122/data-source/2019-Dec.csv\"\n",
    "S3_DATA_OUTPUT_PATH = \"s3://nabil-fikri-9191919122/data-output/predicted_res/\"\n",
    "S3_DATA_MODEL_OUTPUT_PATH = \"s3://nabil-fikri-9191919122/data-output/hasil/\""
   ]
  },
  {
   "cell_type": "markdown",
   "id": "13ba42bc-9460-4a22-a525-b3deb421ca0f",
   "metadata": {
    "tags": []
   },
   "source": [
    "# Data Understanding\n",
    "Size of this Dataset : 1.34 GB\n",
    "Total row count : 11,954,720 rows\n",
    "Total column : 9 column\n",
    "All of the features are categorical, except for Piece feature"
   ]
  },
  {
   "cell_type": "code",
   "execution_count": 3,
   "id": "9dc466d3-f8d5-4ce3-a0bc-f91832e432c0",
   "metadata": {
    "execution": {
     "iopub.execute_input": "2022-06-08T08:33:59.958814Z",
     "iopub.status.busy": "2022-06-08T08:33:59.958439Z",
     "iopub.status.idle": "2022-06-08T08:34:17.418899Z",
     "shell.execute_reply": "2022-06-08T08:34:17.417719Z",
     "shell.execute_reply.started": "2022-06-08T08:33:59.958778Z"
    },
    "tags": []
   },
   "outputs": [
    {
     "data": {
      "application/vnd.jupyter.widget-view+json": {
       "model_id": "cbcd31ec3d77476583f2202026373d7a",
       "version_major": 2,
       "version_minor": 0
      },
      "text/plain": [
       "VBox()"
      ]
     },
     "metadata": {},
     "output_type": "display_data"
    },
    {
     "data": {
      "application/vnd.jupyter.widget-view+json": {
       "model_id": "",
       "version_major": 2,
       "version_minor": 0
      },
      "text/plain": [
       "FloatProgress(value=0.0, bar_style='info', description='Progress:', layout=Layout(height='25px', width='50%'),…"
      ]
     },
     "metadata": {},
     "output_type": "display_data"
    },
    {
     "name": "stdout",
     "output_type": "stream",
     "text": [
      "+--------------------+----------------+----------+-------------------+-------------+---------+------+---------+--------------------+\n",
      "|          event_time|      event_type|product_id|        category_id|category_code|    brand| price|  user_id|        user_session|\n",
      "+--------------------+----------------+----------+-------------------+-------------+---------+------+---------+--------------------+\n",
      "|2020-01-01 00:00:...|            view|   5809910|1602943681873052386|         null|  grattol|  5.24|595414620|4adb70bb-edbd-498...|\n",
      "|2020-01-01 00:00:...|            view|   5812943|1487580012121948301|         null| kinetics|  3.97|595414640|c8c5205d-be43-4f1...|\n",
      "|2020-01-01 00:00:...|            view|   5798924|1783999068867920626|         null|   zinger|  3.97|595412617|46a5010f-bd69-4fb...|\n",
      "|2020-01-01 00:00:...|            view|   5793052|1487580005754995573|         null|     null|  4.92|420652863|546f6af3-a517-475...|\n",
      "|2020-01-01 00:00:...|            view|   5899926|2115334439910245200|         null|     null|  3.92|484071203|cff70ddf-529e-4b0...|\n",
      "|2020-01-01 00:00:...|            view|   5837111|1783999068867920626|         null|  staleks|  6.35|595412617|46a5010f-bd69-4fb...|\n",
      "|2020-01-01 00:00:...|            cart|   5850281|1487580006300255120|         null| marathon|137.78|593016733|848f607c-1d14-474...|\n",
      "|2020-01-01 00:00:...|            view|   5802440|2151191070908613477|         null|     null|  2.16|595411904|74ca1cd5-5381-4ff...|\n",
      "|2020-01-01 00:00:...|            view|   5726464|1487580005268456287|         null|     null|  5.56|420652863|546f6af3-a517-475...|\n",
      "|2020-01-01 00:01:...|remove_from_cart|   5850281|1487580006300255120|         null| marathon|137.78|593016733|848f607c-1d14-474...|\n",
      "|2020-01-01 00:01:...|remove_from_cart|   5850281|1487580006300255120|         null| marathon|137.78|593016733|848f607c-1d14-474...|\n",
      "|2020-01-01 00:01:...|            view|   5809910|1602943681873052386|         null|  grattol|  5.24|588166646|e099adca-fec5-4ae...|\n",
      "|2020-01-01 00:01:...|            cart|   5802440|2151191070908613477|         null|     null|  2.16|595411904|74ca1cd5-5381-4ff...|\n",
      "|2020-01-01 00:01:...|            view|   5753479|1487580013069861041|         null|  italwax|  2.68|545251190|130db082-0e4b-4a0...|\n",
      "|2020-01-01 00:01:...|            view|   5911252|1487580007675986893|         null|dartnails|  1.27|539775844|e04ed824-4857-40e...|\n",
      "|2020-01-01 00:01:...|            view|   5810716|1487580012096782476|         null|     milv|  1.27|595414814|dc2fb978-1008-409...|\n",
      "|2020-01-01 00:01:...|            view|   5831649|1783999068867920626|         null|     null|  1.43|595412617|46a5010f-bd69-4fb...|\n",
      "|2020-01-01 00:01:...|            view|   5741344|1487580005427839846|         null|    irisk|  4.29|420652863|546f6af3-a517-475...|\n",
      "|2020-01-01 00:01:...|            view|   5770029|1487580013841613016|         null|   kapous|  2.81|562921825|2d7bf387-7c51-4a5...|\n",
      "|2020-01-01 00:01:...|            view|   5810674|1487580013069861041|         null|  italwax| 10.32|545251190|130db082-0e4b-4a0...|\n",
      "+--------------------+----------------+----------+-------------------+-------------+---------+------+---------+--------------------+\n",
      "only showing top 20 rows"
     ]
    }
   ],
   "source": [
    "# Import the data from CSV\n",
    "df = spark.read.csv(S3_DATA_SOURCE_PATH, header=True)\n",
    "df2 = spark.read.csv(S3_DATA_SOURCE_PATH_1, header=True)\n",
    "df3 = spark.read.csv(S3_DATA_SOURCE_PATH_2, header=True)\n",
    "df.show()"
   ]
  },
  {
   "cell_type": "code",
   "execution_count": 4,
   "id": "f34d4659-c7cf-4297-98a9-2e9b4092cf2d",
   "metadata": {
    "execution": {
     "iopub.execute_input": "2022-06-08T08:34:19.243302Z",
     "iopub.status.busy": "2022-06-08T08:34:19.242861Z",
     "iopub.status.idle": "2022-06-08T08:34:20.164694Z",
     "shell.execute_reply": "2022-06-08T08:34:20.163666Z",
     "shell.execute_reply.started": "2022-06-08T08:34:19.243245Z"
    }
   },
   "outputs": [
    {
     "data": {
      "application/vnd.jupyter.widget-view+json": {
       "model_id": "cc807e5aadba43b69fd52588681225d6",
       "version_major": 2,
       "version_minor": 0
      },
      "text/plain": [
       "VBox()"
      ]
     },
     "metadata": {},
     "output_type": "display_data"
    },
    {
     "data": {
      "application/vnd.jupyter.widget-view+json": {
       "model_id": "",
       "version_major": 2,
       "version_minor": 0
      },
      "text/plain": [
       "FloatProgress(value=0.0, bar_style='info', description='Progress:', layout=Layout(height='25px', width='50%'),…"
      ]
     },
     "metadata": {},
     "output_type": "display_data"
    },
    {
     "name": "stdout",
     "output_type": "stream",
     "text": [
      "+--------------------+----------------+----------+-------------------+-------------+------+-----+---------+--------------------+\n",
      "|          event_time|      event_type|product_id|        category_id|category_code| brand|price|  user_id|        user_session|\n",
      "+--------------------+----------------+----------+-------------------+-------------+------+-----+---------+--------------------+\n",
      "|2020-02-01 00:00:...|            cart|   5844305|1487580006317032337|         null|  null| 2.14|485174092|4be9643a-420b-4c6...|\n",
      "|2020-02-01 00:00:...|            view|   5769925|1487580013841613016|         null|kapous| 4.22|594621622|a88baf11-9cd0-436...|\n",
      "|2020-02-01 00:00:...|            view|   5817765|1487580008246412266|         null|zeitun|11.03|495404942|3a569c8d-d848-4f0...|\n",
      "|2020-02-01 00:00:...|            view|   5877033|1487580010100293687|         null|  milv| 3.49|564814969|7feb39e5-bb7b-4b2...|\n",
      "|2020-02-01 00:00:...|            cart|   5814871|1487580008112194531|         null|zinger| 2.54|551205603|106a7c7f-7fa1-446...|\n",
      "|2020-02-01 00:00:...|remove_from_cart|   5790563|1487580008263189483|         null|  null| 7.14|607092857|a4ccd1c4-a9d2-48d...|\n",
      "|2020-02-01 00:00:...|remove_from_cart|   5790563|1487580008263189483|         null|  null| 7.14|607092857|a4ccd1c4-a9d2-48d...|\n",
      "|2020-02-01 00:00:...|            cart|   5528034|1487580005553668971|         null|  null| 9.52|583267679|2806ff10-08bc-481...|\n",
      "|2020-02-01 00:00:...|            cart|   5813498|1487580005553668971|         null|  null|11.03|583267679|2806ff10-08bc-481...|\n",
      "|2020-02-01 00:00:...|            view|   5867134|1487580008246412266|         null|  null|19.00|495404942|3a569c8d-d848-4f0...|\n",
      "|2020-02-01 00:00:...|            view|   5813494|1487580005553668971|         null|  null|11.03|583267679|2806ff10-08bc-481...|\n",
      "|2020-02-01 00:00:...|            view|   5877036|1487580010100293687|         null|  milv| 3.49|564814969|e9f1f268-6eb2-4f1...|\n",
      "|2020-02-01 00:00:...|            cart|   5844318|1487580006317032337|         null|  null| 1.57|485174092|4be9643a-420b-4c6...|\n",
      "|2020-02-01 00:00:...|            view|   5794157|1487580005671109489|         null|masura| 1.73|417102560|dcf90ff3-a246-4b0...|\n",
      "|2020-02-01 00:00:...|            view|   5814871|1487580008112194531|         null|zinger| 2.54|551205603|106a7c7f-7fa1-446...|\n",
      "|2020-02-01 00:00:...|            view|   5813498|1487580005553668971|         null|  null|11.03|583267679|2806ff10-08bc-481...|\n",
      "|2020-02-01 00:00:...|            cart|   5794157|1487580005671109489|         null|masura| 1.73|417102560|dcf90ff3-a246-4b0...|\n",
      "|2020-02-01 00:00:...|            view|   5899845|2115334439910245200|         null|  null| 4.02|423651741|fb42a963-abef-4c4...|\n",
      "|2020-02-01 00:00:...|            view|   5813494|1487580005553668971|         null|  null|11.03|583267679|2806ff10-08bc-481...|\n",
      "|2020-02-01 00:01:...|            view|      6499|1487580007910867929|         null|runail| 2.22|551205603|106a7c7f-7fa1-446...|\n",
      "+--------------------+----------------+----------+-------------------+-------------+------+-----+---------+--------------------+\n",
      "only showing top 20 rows"
     ]
    }
   ],
   "source": [
    "df2.show()"
   ]
  },
  {
   "cell_type": "code",
   "execution_count": 5,
   "id": "b8ac8cc1-7c0c-4329-9d13-fb15281e1a17",
   "metadata": {
    "execution": {
     "iopub.execute_input": "2022-06-08T08:34:22.254204Z",
     "iopub.status.busy": "2022-06-08T08:34:22.253728Z",
     "iopub.status.idle": "2022-06-08T08:34:22.861679Z",
     "shell.execute_reply": "2022-06-08T08:34:22.857499Z",
     "shell.execute_reply.started": "2022-06-08T08:34:22.254150Z"
    }
   },
   "outputs": [
    {
     "data": {
      "application/vnd.jupyter.widget-view+json": {
       "model_id": "b0ffa947c803496d9641ba5a0372ae47",
       "version_major": 2,
       "version_minor": 0
      },
      "text/plain": [
       "VBox()"
      ]
     },
     "metadata": {},
     "output_type": "display_data"
    },
    {
     "data": {
      "application/vnd.jupyter.widget-view+json": {
       "model_id": "",
       "version_major": 2,
       "version_minor": 0
      },
      "text/plain": [
       "FloatProgress(value=0.0, bar_style='info', description='Progress:', layout=Layout(height='25px', width='50%'),…"
      ]
     },
     "metadata": {},
     "output_type": "display_data"
    },
    {
     "name": "stdout",
     "output_type": "stream",
     "text": [
      "+--------------------+----------------+----------+-------------------+-------------+---------+-----+---------+--------------------+\n",
      "|          event_time|      event_type|product_id|        category_id|category_code|    brand|price|  user_id|        user_session|\n",
      "+--------------------+----------------+----------+-------------------+-------------+---------+-----+---------+--------------------+\n",
      "|2019-12-01 00:00:...|remove_from_cart|   5712790|1487580005268456287|         null|    f.o.x| 6.27|576802932|51d85cb0-897f-48d...|\n",
      "|2019-12-01 00:00:...|            view|   5764655|1487580005411062629|         null|      cnd|29.05|412120092|8adff31e-2051-489...|\n",
      "|2019-12-01 00:00:...|            cart|      4958|1487580009471148064|         null|   runail| 1.19|494077766|c99a50e8-2fac-4c4...|\n",
      "|2019-12-01 00:00:...|            view|   5848413|1487580007675986893|         null|freedecor| 0.79|348405118|722ffea5-73c0-492...|\n",
      "|2019-12-01 00:00:...|            view|   5824148|1487580005511725929|         null|     null| 5.56|576005683|28172809-7e4a-45c...|\n",
      "|2019-12-01 00:00:...|            view|   5773361|1487580005134238553|         null|   runail| 2.62|560109803|38cf4ba1-4a0a-4c9...|\n",
      "|2019-12-01 00:00:...|            cart|   5629988|1487580009311764506|         null|     null| 1.19|579966747|1512be50-d0fd-4a9...|\n",
      "|2019-12-01 00:00:...|            view|   5807805|1487580005713052531|         null| ingarden| 4.44|576005683|28172809-7e4a-45c...|\n",
      "|2019-12-01 00:00:...|            view|   5588608|1487580008145748965|         null| roubloff| 5.40|546170008|676d9fcc-2a4f-444...|\n",
      "|2019-12-01 00:00:...|            cart|      5335|1487580009605365797|         null|   runail| 0.40|494077766|c99a50e8-2fac-4c4...|\n",
      "|2019-12-01 00:00:...|            cart|   5755170|1487580009387261981|         null|     null| 2.79|579751441|8de492d7-0937-47a...|\n",
      "|2019-12-01 00:00:...|remove_from_cart|   5650294|1487580007835370453|         null|  metzger| 3.33|576802932|51d85cb0-897f-48d...|\n",
      "|2019-12-01 00:00:...|            cart|   5755170|1487580009387261981|         null|     null| 2.79|579751441|8de492d7-0937-47a...|\n",
      "|2019-12-01 00:00:...|remove_from_cart|   5692261|1487580007835370453|         null|  staleks| 6.35|576802932|51d85cb0-897f-48d...|\n",
      "|2019-12-01 00:00:...|            view|   5798929|1783999068909863670|         null|   zinger| 6.19|579966747|1512be50-d0fd-4a9...|\n",
      "|2019-12-01 00:00:...|            cart|   5755170|1487580009387261981|         null|     null| 2.79|579751441|8de492d7-0937-47a...|\n",
      "|2019-12-01 00:00:...|remove_from_cart|   5694628|1487580007835370453|         null|     yoko| 3.65|576802932|51d85cb0-897f-48d...|\n",
      "|2019-12-01 00:00:...|            view|      3936|1487580005343953762|         null|   entity|10.95|579969717|006dd2fb-ae1e-446...|\n",
      "|2019-12-01 00:00:...|            cart|   5761411|1487580007432717250|         null| ingarden| 2.86|494077766|c99a50e8-2fac-4c4...|\n",
      "|2019-12-01 00:00:...|            cart|   5761411|1487580007432717250|         null| ingarden| 2.86|494077766|c99a50e8-2fac-4c4...|\n",
      "+--------------------+----------------+----------+-------------------+-------------+---------+-----+---------+--------------------+\n",
      "only showing top 20 rows"
     ]
    }
   ],
   "source": [
    "df3.show()"
   ]
  },
  {
   "cell_type": "markdown",
   "id": "ea5dd292-aa0f-4373-9f1b-913df87dd1b1",
   "metadata": {},
   "source": [
    "# Data Preparation\n",
    "The source data is saved in s3://nabil-fikri-9191919122/data-source/"
   ]
  },
  {
   "cell_type": "markdown",
   "id": "124caf93-3060-4d19-9969-3d9e651961f1",
   "metadata": {},
   "source": [
    "## Data Preprocessing and Feature Engineering"
   ]
  },
  {
   "cell_type": "code",
   "execution_count": 6,
   "id": "d4547e1c-28f8-4a08-9bfb-077205689dca",
   "metadata": {
    "execution": {
     "iopub.execute_input": "2022-06-08T08:34:24.328070Z",
     "iopub.status.busy": "2022-06-08T08:34:24.327670Z",
     "iopub.status.idle": "2022-06-08T08:34:24.534070Z",
     "shell.execute_reply": "2022-06-08T08:34:24.531860Z",
     "shell.execute_reply.started": "2022-06-08T08:34:24.328021Z"
    }
   },
   "outputs": [
    {
     "data": {
      "application/vnd.jupyter.widget-view+json": {
       "model_id": "912aabd194e54b29afc37a1efa0c99ef",
       "version_major": 2,
       "version_minor": 0
      },
      "text/plain": [
       "VBox()"
      ]
     },
     "metadata": {},
     "output_type": "display_data"
    },
    {
     "data": {
      "application/vnd.jupyter.widget-view+json": {
       "model_id": "",
       "version_major": 2,
       "version_minor": 0
      },
      "text/plain": [
       "FloatProgress(value=0.0, bar_style='info', description='Progress:', layout=Layout(height='25px', width='50%'),…"
      ]
     },
     "metadata": {},
     "output_type": "display_data"
    }
   ],
   "source": [
    "# explicit function\n",
    "def unionAll(dfs):\n",
    "    return functools.reduce(lambda df1, df2: df1.union(df2.select(df1.columns)), dfs)"
   ]
  },
  {
   "cell_type": "code",
   "execution_count": 7,
   "id": "e61427e7-8ae3-4d7e-9ffd-8c3b0adaff62",
   "metadata": {
    "execution": {
     "iopub.execute_input": "2022-06-08T08:34:26.498319Z",
     "iopub.status.busy": "2022-06-08T08:34:26.497944Z",
     "iopub.status.idle": "2022-06-08T08:34:27.835821Z",
     "shell.execute_reply": "2022-06-08T08:34:27.834905Z",
     "shell.execute_reply.started": "2022-06-08T08:34:26.498284Z"
    }
   },
   "outputs": [
    {
     "data": {
      "application/vnd.jupyter.widget-view+json": {
       "model_id": "55cf9d77686442d48fe9cf9e535971d0",
       "version_major": 2,
       "version_minor": 0
      },
      "text/plain": [
       "VBox()"
      ]
     },
     "metadata": {},
     "output_type": "display_data"
    },
    {
     "data": {
      "application/vnd.jupyter.widget-view+json": {
       "model_id": "",
       "version_major": 2,
       "version_minor": 0
      },
      "text/plain": [
       "FloatProgress(value=0.0, bar_style='info', description='Progress:', layout=Layout(height='25px', width='50%'),…"
      ]
     },
     "metadata": {},
     "output_type": "display_data"
    },
    {
     "name": "stdout",
     "output_type": "stream",
     "text": [
      "+--------------------+----------------+----------+-------------------+-------------+---------+------+---------+--------------------+\n",
      "|          event_time|      event_type|product_id|        category_id|category_code|    brand| price|  user_id|        user_session|\n",
      "+--------------------+----------------+----------+-------------------+-------------+---------+------+---------+--------------------+\n",
      "|2020-01-01 00:00:...|            view|   5809910|1602943681873052386|         null|  grattol|  5.24|595414620|4adb70bb-edbd-498...|\n",
      "|2020-01-01 00:00:...|            view|   5812943|1487580012121948301|         null| kinetics|  3.97|595414640|c8c5205d-be43-4f1...|\n",
      "|2020-01-01 00:00:...|            view|   5798924|1783999068867920626|         null|   zinger|  3.97|595412617|46a5010f-bd69-4fb...|\n",
      "|2020-01-01 00:00:...|            view|   5793052|1487580005754995573|         null|     null|  4.92|420652863|546f6af3-a517-475...|\n",
      "|2020-01-01 00:00:...|            view|   5899926|2115334439910245200|         null|     null|  3.92|484071203|cff70ddf-529e-4b0...|\n",
      "|2020-01-01 00:00:...|            view|   5837111|1783999068867920626|         null|  staleks|  6.35|595412617|46a5010f-bd69-4fb...|\n",
      "|2020-01-01 00:00:...|            cart|   5850281|1487580006300255120|         null| marathon|137.78|593016733|848f607c-1d14-474...|\n",
      "|2020-01-01 00:00:...|            view|   5802440|2151191070908613477|         null|     null|  2.16|595411904|74ca1cd5-5381-4ff...|\n",
      "|2020-01-01 00:00:...|            view|   5726464|1487580005268456287|         null|     null|  5.56|420652863|546f6af3-a517-475...|\n",
      "|2020-01-01 00:01:...|remove_from_cart|   5850281|1487580006300255120|         null| marathon|137.78|593016733|848f607c-1d14-474...|\n",
      "|2020-01-01 00:01:...|remove_from_cart|   5850281|1487580006300255120|         null| marathon|137.78|593016733|848f607c-1d14-474...|\n",
      "|2020-01-01 00:01:...|            view|   5809910|1602943681873052386|         null|  grattol|  5.24|588166646|e099adca-fec5-4ae...|\n",
      "|2020-01-01 00:01:...|            cart|   5802440|2151191070908613477|         null|     null|  2.16|595411904|74ca1cd5-5381-4ff...|\n",
      "|2020-01-01 00:01:...|            view|   5753479|1487580013069861041|         null|  italwax|  2.68|545251190|130db082-0e4b-4a0...|\n",
      "|2020-01-01 00:01:...|            view|   5911252|1487580007675986893|         null|dartnails|  1.27|539775844|e04ed824-4857-40e...|\n",
      "|2020-01-01 00:01:...|            view|   5810716|1487580012096782476|         null|     milv|  1.27|595414814|dc2fb978-1008-409...|\n",
      "|2020-01-01 00:01:...|            view|   5831649|1783999068867920626|         null|     null|  1.43|595412617|46a5010f-bd69-4fb...|\n",
      "|2020-01-01 00:01:...|            view|   5741344|1487580005427839846|         null|    irisk|  4.29|420652863|546f6af3-a517-475...|\n",
      "|2020-01-01 00:01:...|            view|   5770029|1487580013841613016|         null|   kapous|  2.81|562921825|2d7bf387-7c51-4a5...|\n",
      "|2020-01-01 00:01:...|            view|   5810674|1487580013069861041|         null|  italwax| 10.32|545251190|130db082-0e4b-4a0...|\n",
      "+--------------------+----------------+----------+-------------------+-------------+---------+------+---------+--------------------+\n",
      "only showing top 20 rows"
     ]
    }
   ],
   "source": [
    "unioned_df = unionAll([df, df2, df3])\n",
    "unioned_df.show()"
   ]
  },
  {
   "cell_type": "code",
   "execution_count": 8,
   "id": "b88fca6e-25d0-4865-bd3c-95591fceb616",
   "metadata": {
    "execution": {
     "iopub.execute_input": "2022-06-08T08:34:29.421554Z",
     "iopub.status.busy": "2022-06-08T08:34:29.421195Z",
     "iopub.status.idle": "2022-06-08T08:34:29.509794Z",
     "shell.execute_reply": "2022-06-08T08:34:29.508917Z",
     "shell.execute_reply.started": "2022-06-08T08:34:29.421519Z"
    }
   },
   "outputs": [
    {
     "data": {
      "application/vnd.jupyter.widget-view+json": {
       "model_id": "e3e476bf040c4e6fa95960d078cdc629",
       "version_major": 2,
       "version_minor": 0
      },
      "text/plain": [
       "VBox()"
      ]
     },
     "metadata": {},
     "output_type": "display_data"
    },
    {
     "data": {
      "application/vnd.jupyter.widget-view+json": {
       "model_id": "",
       "version_major": 2,
       "version_minor": 0
      },
      "text/plain": [
       "FloatProgress(value=0.0, bar_style='info', description='Progress:', layout=Layout(height='25px', width='50%'),…"
      ]
     },
     "metadata": {},
     "output_type": "display_data"
    }
   ],
   "source": [
    "df = unioned_df"
   ]
  },
  {
   "cell_type": "code",
   "execution_count": 9,
   "id": "a9f67d0d-3f5a-4763-bbec-66a61a8854c5",
   "metadata": {
    "execution": {
     "iopub.execute_input": "2022-06-08T08:34:31.637528Z",
     "iopub.status.busy": "2022-06-08T08:34:31.637226Z",
     "iopub.status.idle": "2022-06-08T08:35:25.321534Z",
     "shell.execute_reply": "2022-06-08T08:35:25.319138Z",
     "shell.execute_reply.started": "2022-06-08T08:34:31.637493Z"
    },
    "tags": []
   },
   "outputs": [
    {
     "data": {
      "application/vnd.jupyter.widget-view+json": {
       "model_id": "c361b0955d0e4eba9293e1e42e557deb",
       "version_major": 2,
       "version_minor": 0
      },
      "text/plain": [
       "VBox()"
      ]
     },
     "metadata": {},
     "output_type": "display_data"
    },
    {
     "data": {
      "application/vnd.jupyter.widget-view+json": {
       "model_id": "",
       "version_major": 2,
       "version_minor": 0
      },
      "text/plain": [
       "FloatProgress(value=0.0, bar_style='info', description='Progress:', layout=Layout(height='25px', width='50%'),…"
      ]
     },
     "metadata": {},
     "output_type": "display_data"
    },
    {
     "name": "stdout",
     "output_type": "stream",
     "text": [
      "Source total row: 11954720\n",
      "Purchase only total row: 718966"
     ]
    }
   ],
   "source": [
    "#select purchase row\n",
    "df_raw = df.where((col('event_type') == 'purchase'))\n",
    "print(\"Source total row: %s\" % df.count())\n",
    "print(\"Purchase only total row: %s\" % df_raw.count())"
   ]
  },
  {
   "cell_type": "code",
   "execution_count": 10,
   "id": "e7ad87c4-74f0-4102-8c9f-accdc7236120",
   "metadata": {
    "execution": {
     "iopub.execute_input": "2022-06-08T08:35:29.171559Z",
     "iopub.status.busy": "2022-06-08T08:35:29.171161Z",
     "iopub.status.idle": "2022-06-08T08:35:30.476205Z",
     "shell.execute_reply": "2022-06-08T08:35:30.475269Z",
     "shell.execute_reply.started": "2022-06-08T08:35:29.171524Z"
    },
    "tags": []
   },
   "outputs": [
    {
     "data": {
      "application/vnd.jupyter.widget-view+json": {
       "model_id": "10047fad5fd04224a425be0496060472",
       "version_major": 2,
       "version_minor": 0
      },
      "text/plain": [
       "VBox()"
      ]
     },
     "metadata": {},
     "output_type": "display_data"
    },
    {
     "data": {
      "application/vnd.jupyter.widget-view+json": {
       "model_id": "",
       "version_major": 2,
       "version_minor": 0
      },
      "text/plain": [
       "FloatProgress(value=0.0, bar_style='info', description='Progress:', layout=Layout(height='25px', width='50%'),…"
      ]
     },
     "metadata": {},
     "output_type": "display_data"
    },
    {
     "name": "stdout",
     "output_type": "stream",
     "text": [
      "+--------------------+----------+---------+\n",
      "|          event_time|product_id|  user_id|\n",
      "+--------------------+----------+---------+\n",
      "|2020-01-01 00:06:...|   5802440|595411904|\n",
      "|2020-01-01 00:06:...|   5825203|595411904|\n",
      "|2020-01-01 00:51:...|   5842655|595351517|\n",
      "|2020-01-01 00:52:...|      4185|287758725|\n",
      "|2020-01-01 00:52:...|   5700088|504269664|\n",
      "|2020-01-01 00:52:...|   5838656|504269664|\n",
      "|2020-01-01 00:52:...|   5723410|504269664|\n",
      "|2020-01-01 00:52:...|   5700095|504269664|\n",
      "|2020-01-01 00:52:...|   5700094|504269664|\n",
      "|2020-01-01 00:52:...|   5700090|504269664|\n",
      "|2020-01-01 00:58:...|     59003|336065468|\n",
      "|2020-01-01 00:58:...|     59002|336065468|\n",
      "|2020-01-01 00:58:...|   5869135|336065468|\n",
      "|2020-01-01 00:58:...|   5827374|336065468|\n",
      "|2020-01-01 00:58:...|   5827006|336065468|\n",
      "|2020-01-01 00:58:...|   5813830|336065468|\n",
      "|2020-01-01 00:58:...|   5802546|336065468|\n",
      "|2020-01-01 00:58:...|   5798928|336065468|\n",
      "|2020-01-01 00:58:...|   5798927|336065468|\n",
      "|2020-01-01 00:58:...|   5774342|336065468|\n",
      "+--------------------+----------+---------+\n",
      "only showing top 20 rows"
     ]
    }
   ],
   "source": [
    "# Select 3 column\n",
    "df_raw = df_raw.select(\"event_time\", \"product_id\", \"user_id\")\n",
    "df_raw.show()"
   ]
  },
  {
   "cell_type": "code",
   "execution_count": 11,
   "id": "5db69517-d54c-4dab-81e9-84ec33182b79",
   "metadata": {
    "execution": {
     "iopub.execute_input": "2022-06-08T08:35:32.329114Z",
     "iopub.status.busy": "2022-06-08T08:35:32.328715Z",
     "iopub.status.idle": "2022-06-08T08:36:01.770710Z",
     "shell.execute_reply": "2022-06-08T08:36:01.769748Z",
     "shell.execute_reply.started": "2022-06-08T08:35:32.329071Z"
    },
    "tags": []
   },
   "outputs": [
    {
     "data": {
      "application/vnd.jupyter.widget-view+json": {
       "model_id": "88fb8d6b7eff442fa1cb27e2518dd746",
       "version_major": 2,
       "version_minor": 0
      },
      "text/plain": [
       "VBox()"
      ]
     },
     "metadata": {},
     "output_type": "display_data"
    },
    {
     "data": {
      "application/vnd.jupyter.widget-view+json": {
       "model_id": "",
       "version_major": 2,
       "version_minor": 0
      },
      "text/plain": [
       "FloatProgress(value=0.0, bar_style='info', description='Progress:', layout=Layout(height='25px', width='50%'),…"
      ]
     },
     "metadata": {},
     "output_type": "display_data"
    },
    {
     "name": "stdout",
     "output_type": "stream",
     "text": [
      "718966"
     ]
    }
   ],
   "source": [
    "df_raw.count()"
   ]
  },
  {
   "cell_type": "code",
   "execution_count": 12,
   "id": "79f1ecef-8f23-4261-8a54-e9918365a06e",
   "metadata": {
    "execution": {
     "iopub.execute_input": "2022-06-08T08:36:04.032005Z",
     "iopub.status.busy": "2022-06-08T08:36:04.031571Z",
     "iopub.status.idle": "2022-06-08T08:36:37.538622Z",
     "shell.execute_reply": "2022-06-08T08:36:37.537615Z",
     "shell.execute_reply.started": "2022-06-08T08:36:04.031952Z"
    },
    "tags": []
   },
   "outputs": [
    {
     "data": {
      "application/vnd.jupyter.widget-view+json": {
       "model_id": "2f7316d1efa14567a547476b7f954e57",
       "version_major": 2,
       "version_minor": 0
      },
      "text/plain": [
       "VBox()"
      ]
     },
     "metadata": {},
     "output_type": "display_data"
    },
    {
     "data": {
      "application/vnd.jupyter.widget-view+json": {
       "model_id": "",
       "version_major": 2,
       "version_minor": 0
      },
      "text/plain": [
       "FloatProgress(value=0.0, bar_style='info', description='Progress:', layout=Layout(height='25px', width='50%'),…"
      ]
     },
     "metadata": {},
     "output_type": "display_data"
    },
    {
     "name": "stdout",
     "output_type": "stream",
     "text": [
      "+----------+----------+-------+\n",
      "|event_time|product_id|user_id|\n",
      "+----------+----------+-------+\n",
      "|         0|         0|      0|\n",
      "+----------+----------+-------+"
     ]
    }
   ],
   "source": [
    "# check is there is empty, None, Null, Nan with string literals.\n",
    "df2 = df_raw.select([count(when(col(c).contains('None') | \\\n",
    "                            col(c).contains('NULL') | \\\n",
    "                            (col(c) == '' ) | \\\n",
    "                            col(c).isNull() | \\\n",
    "                            isnan(c), c \n",
    "                           )).alias(c)\n",
    "                    for c in df_raw.select('event_time', 'product_id', 'user_id').columns])\n",
    "df2.show()"
   ]
  },
  {
   "cell_type": "code",
   "execution_count": 13,
   "id": "1c7fbff8-156d-435b-9331-d60706fa7b65",
   "metadata": {
    "execution": {
     "iopub.execute_input": "2022-06-08T08:36:41.248311Z",
     "iopub.status.busy": "2022-06-08T08:36:41.247874Z",
     "iopub.status.idle": "2022-06-08T08:37:16.759055Z",
     "shell.execute_reply": "2022-06-08T08:37:16.757475Z",
     "shell.execute_reply.started": "2022-06-08T08:36:41.248254Z"
    },
    "tags": []
   },
   "outputs": [
    {
     "data": {
      "application/vnd.jupyter.widget-view+json": {
       "model_id": "2ab9088f4aaa4da98d9aadc421cc9c72",
       "version_major": 2,
       "version_minor": 0
      },
      "text/plain": [
       "VBox()"
      ]
     },
     "metadata": {},
     "output_type": "display_data"
    },
    {
     "data": {
      "application/vnd.jupyter.widget-view+json": {
       "model_id": "",
       "version_major": 2,
       "version_minor": 0
      },
      "text/plain": [
       "FloatProgress(value=0.0, bar_style='info', description='Progress:', layout=Layout(height='25px', width='50%'),…"
      ]
     },
     "metadata": {},
     "output_type": "display_data"
    },
    {
     "name": "stdout",
     "output_type": "stream",
     "text": [
      "+---------+-----+\n",
      "|  user_id|count|\n",
      "+---------+-----+\n",
      "|413759078|   13|\n",
      "|595605641|   19|\n",
      "|572606397|    9|\n",
      "|588856025|   43|\n",
      "|595693462|    2|\n",
      "|454356614|    7|\n",
      "|539907585|  229|\n",
      "|594871354|   26|\n",
      "|581581563|  828|\n",
      "|475829132|   22|\n",
      "|593589937|   23|\n",
      "|595852644|    2|\n",
      "|504629532|   23|\n",
      "|595994594|    3|\n",
      "|596083934|    3|\n",
      "|594036817|    2|\n",
      "|572401854|   21|\n",
      "|596216560|    5|\n",
      "|596241412|    3|\n",
      "|566406961|  162|\n",
      "+---------+-----+\n",
      "only showing top 20 rows"
     ]
    }
   ],
   "source": [
    "#check if there is user_id have different event_time in purchasing\n",
    "df.select(\"event_time\", \"user_id\").groupBy('user_id').count().where((col('count') > 1)).show()"
   ]
  },
  {
   "cell_type": "code",
   "execution_count": 14,
   "id": "c9a77bb3-5f33-4627-a10c-42f70bbe7faa",
   "metadata": {
    "execution": {
     "iopub.execute_input": "2022-06-08T08:37:19.986540Z",
     "iopub.status.busy": "2022-06-08T08:37:19.986109Z",
     "iopub.status.idle": "2022-06-08T08:37:21.388331Z",
     "shell.execute_reply": "2022-06-08T08:37:21.387270Z",
     "shell.execute_reply.started": "2022-06-08T08:37:19.986485Z"
    },
    "tags": []
   },
   "outputs": [
    {
     "data": {
      "application/vnd.jupyter.widget-view+json": {
       "model_id": "224ad0aafc754f8da64a9569b66797e8",
       "version_major": 2,
       "version_minor": 0
      },
      "text/plain": [
       "VBox()"
      ]
     },
     "metadata": {},
     "output_type": "display_data"
    },
    {
     "data": {
      "application/vnd.jupyter.widget-view+json": {
       "model_id": "",
       "version_major": 2,
       "version_minor": 0
      },
      "text/plain": [
       "FloatProgress(value=0.0, bar_style='info', description='Progress:', layout=Layout(height='25px', width='50%'),…"
      ]
     },
     "metadata": {},
     "output_type": "display_data"
    },
    {
     "name": "stdout",
     "output_type": "stream",
     "text": [
      "+-----------------+----------+\n",
      "|               id|product_id|\n",
      "+-----------------+----------+\n",
      "|76840273595411904|   5802440|\n",
      "|76840273595411904|   5825203|\n",
      "|76837542595351517|   5842655|\n",
      "|76837520287758725|      4185|\n",
      "|76837509504269664|   5700088|\n",
      "|76837509504269664|   5838656|\n",
      "|76837509504269664|   5723410|\n",
      "|76837509504269664|   5700095|\n",
      "|76837509504269664|   5700094|\n",
      "|76837509504269664|   5700090|\n",
      "|76837130336065468|     59003|\n",
      "|76837130336065468|     59002|\n",
      "|76837130336065468|   5869135|\n",
      "|76837130336065468|   5827374|\n",
      "|76837130336065468|   5827006|\n",
      "|76837130336065468|   5813830|\n",
      "|76837130336065468|   5802546|\n",
      "|76837130336065468|   5798928|\n",
      "|76837130336065468|   5798927|\n",
      "|76837130336065468|   5774342|\n",
      "+-----------------+----------+\n",
      "only showing top 20 rows"
     ]
    }
   ],
   "source": [
    "# if same\n",
    "# df_raw = df_raw.select(\"user_id\", \"product_id\")\n",
    "# df_raw = df_raw.withColumnRenamed(\"user_id\", 'id')\n",
    "\n",
    "# if not same (convert event_time to seconds and join seconds with user_id)\n",
    "df_raw = df_raw.withColumn('event_time', regexp_replace('event_time', ' UTC', ''))\n",
    "df_raw = df_raw.withColumn('event_time', to_timestamp(df_raw.event_time, 'yyyy-MM-dd HH:mm:ss'))\n",
    "df_raw = df_raw.withColumn('end_timestamp', current_timestamp())\\\n",
    "            .withColumn('seconds', col('end_timestamp').cast('long')-col('event_time').cast('long'))\n",
    "df_raw = df_raw.withColumn('id', (df_raw.seconds*1000000000)+df_raw.user_id.cast('long'))\n",
    "df_raw = df_raw.select('id', 'product_id')\n",
    "\n",
    "df_raw.show()"
   ]
  },
  {
   "cell_type": "code",
   "execution_count": 15,
   "id": "c65c0f6b-b5f2-4bd5-89a7-cbf2188c3ffc",
   "metadata": {
    "execution": {
     "iopub.execute_input": "2022-06-08T08:37:47.115895Z",
     "iopub.status.busy": "2022-06-08T08:37:47.115462Z",
     "iopub.status.idle": "2022-06-08T08:38:14.576950Z",
     "shell.execute_reply": "2022-06-08T08:38:14.575943Z",
     "shell.execute_reply.started": "2022-06-08T08:37:47.115839Z"
    },
    "tags": []
   },
   "outputs": [
    {
     "data": {
      "application/vnd.jupyter.widget-view+json": {
       "model_id": "48dcc6b1a83749388882cfc051c257ef",
       "version_major": 2,
       "version_minor": 0
      },
      "text/plain": [
       "VBox()"
      ]
     },
     "metadata": {},
     "output_type": "display_data"
    },
    {
     "data": {
      "application/vnd.jupyter.widget-view+json": {
       "model_id": "",
       "version_major": 2,
       "version_minor": 0
      },
      "text/plain": [
       "FloatProgress(value=0.0, bar_style='info', description='Progress:', layout=Layout(height='25px', width='50%'),…"
      ]
     },
     "metadata": {},
     "output_type": "display_data"
    },
    {
     "name": "stdout",
     "output_type": "stream",
     "text": [
      "718966"
     ]
    }
   ],
   "source": [
    "# Before dropping the duplicates\n",
    "df_raw.count()"
   ]
  },
  {
   "cell_type": "code",
   "execution_count": 16,
   "id": "26f89407-733b-42e8-9e16-eed8bc670313",
   "metadata": {
    "execution": {
     "iopub.execute_input": "2022-06-08T08:38:17.320524Z",
     "iopub.status.busy": "2022-06-08T08:38:17.320054Z",
     "iopub.status.idle": "2022-06-08T08:38:52.832674Z",
     "shell.execute_reply": "2022-06-08T08:38:52.831316Z",
     "shell.execute_reply.started": "2022-06-08T08:38:17.320466Z"
    },
    "tags": []
   },
   "outputs": [
    {
     "data": {
      "application/vnd.jupyter.widget-view+json": {
       "model_id": "8dbf6feefb514e7d95cbb8c5ef9317a5",
       "version_major": 2,
       "version_minor": 0
      },
      "text/plain": [
       "VBox()"
      ]
     },
     "metadata": {},
     "output_type": "display_data"
    },
    {
     "data": {
      "application/vnd.jupyter.widget-view+json": {
       "model_id": "",
       "version_major": 2,
       "version_minor": 0
      },
      "text/plain": [
       "FloatProgress(value=0.0, bar_style='info', description='Progress:', layout=Layout(height='25px', width='50%'),…"
      ]
     },
     "metadata": {},
     "output_type": "display_data"
    },
    {
     "name": "stdout",
     "output_type": "stream",
     "text": [
      "718513"
     ]
    }
   ],
   "source": [
    "# Remove the duplicates\n",
    "df_raw = df_raw.dropDuplicates([\"id\", \"product_id\"])\n",
    "df_raw.count()"
   ]
  },
  {
   "cell_type": "code",
   "execution_count": 17,
   "id": "6441f806-0717-49a5-bfeb-ade5188aac71",
   "metadata": {
    "execution": {
     "iopub.execute_input": "2022-06-08T08:38:56.037029Z",
     "iopub.status.busy": "2022-06-08T08:38:56.036733Z",
     "iopub.status.idle": "2022-06-08T08:39:33.749640Z",
     "shell.execute_reply": "2022-06-08T08:39:33.746608Z",
     "shell.execute_reply.started": "2022-06-08T08:38:56.036994Z"
    },
    "tags": []
   },
   "outputs": [
    {
     "data": {
      "application/vnd.jupyter.widget-view+json": {
       "model_id": "ab5ae6a3974d4fe3ae7511cc345ab623",
       "version_major": 2,
       "version_minor": 0
      },
      "text/plain": [
       "VBox()"
      ]
     },
     "metadata": {},
     "output_type": "display_data"
    },
    {
     "data": {
      "application/vnd.jupyter.widget-view+json": {
       "model_id": "",
       "version_major": 2,
       "version_minor": 0
      },
      "text/plain": [
       "FloatProgress(value=0.0, bar_style='info', description='Progress:', layout=Layout(height='25px', width='50%'),…"
      ]
     },
     "metadata": {},
     "output_type": "display_data"
    },
    {
     "name": "stdout",
     "output_type": "stream",
     "text": [
      "+-----------------+--------------------+\n",
      "|               id|               items|\n",
      "+-----------------+--------------------+\n",
      "|71667288549936053|[5739988, 5813878...|\n",
      "|71667319622045495|[5712544, 5661520...|\n",
      "|71669977622042844|[5924419, 6846, 5...|\n",
      "|71671111609948609|[5881438, 5881450...|\n",
      "|71673171611613605|[5822340, 5822355...|\n",
      "|71674565604511140|[5685798, 5620922...|\n",
      "|71674699571706189|[5855117, 5861294...|\n",
      "|71674945467917233|[5817691, 5859210...|\n",
      "|71676228610072586|  [5896330, 5650627]|\n",
      "|71678324515512813|[5697021, 5895884...|\n",
      "|71678517615170409|[5763238, 6495, 5...|\n",
      "|71682003244605896|[5759385, 5863095...|\n",
      "|71683921619309094|[5875318, 5875320...|\n",
      "|71685367619873968|[5759492, 5743974...|\n",
      "|71688326615985575|[5797793, 5797794...|\n",
      "|71690123603212651|           [5907080]|\n",
      "|71694936532611936|[5766979, 5829354...|\n",
      "|71696052465095444|           [5854897]|\n",
      "|71696226597851470|           [5885594]|\n",
      "|71698451621868090|[5898268, 5898262...|\n",
      "+-----------------+--------------------+\n",
      "only showing top 20 rows"
     ]
    }
   ],
   "source": [
    "# Convert into this format: [\"id\", \"items\"] = [1, [a, b, c]]\n",
    "\n",
    "df_input = df_raw.groupBy(\"id\").agg(collect_list('product_id').alias('items'))\n",
    "df_input.show()"
   ]
  },
  {
   "cell_type": "code",
   "execution_count": 18,
   "id": "51b12dd2-6259-4669-baf6-15ff76042443",
   "metadata": {
    "execution": {
     "iopub.execute_input": "2022-06-08T08:39:36.537180Z",
     "iopub.status.busy": "2022-06-08T08:39:36.536824Z",
     "iopub.status.idle": "2022-06-08T08:40:08.226649Z",
     "shell.execute_reply": "2022-06-08T08:40:08.225718Z",
     "shell.execute_reply.started": "2022-06-08T08:39:36.537128Z"
    },
    "tags": []
   },
   "outputs": [
    {
     "data": {
      "application/vnd.jupyter.widget-view+json": {
       "model_id": "e7516eede9814cc88a6e131cf9692f4f",
       "version_major": 2,
       "version_minor": 0
      },
      "text/plain": [
       "VBox()"
      ]
     },
     "metadata": {},
     "output_type": "display_data"
    },
    {
     "data": {
      "application/vnd.jupyter.widget-view+json": {
       "model_id": "",
       "version_major": 2,
       "version_minor": 0
      },
      "text/plain": [
       "FloatProgress(value=0.0, bar_style='info', description='Progress:', layout=Layout(height='25px', width='50%'),…"
      ]
     },
     "metadata": {},
     "output_type": "display_data"
    },
    {
     "name": "stdout",
     "output_type": "stream",
     "text": [
      "92243"
     ]
    }
   ],
   "source": [
    "df_input.count()"
   ]
  },
  {
   "cell_type": "markdown",
   "id": "bb984c51-1d3d-45e0-a9cd-7d42e686caea",
   "metadata": {},
   "source": [
    "# Modeling\n",
    "\n",
    "I choose this algorithm because the needed minSupport is low so it can run fast, enough to represent the objective goal, and this algorithm is what i most familiar with."
   ]
  },
  {
   "cell_type": "code",
   "execution_count": 19,
   "id": "32da57ce-353c-4e4f-8e6b-0da453e0cd36",
   "metadata": {
    "execution": {
     "iopub.execute_input": "2022-06-08T08:40:12.288803Z",
     "iopub.status.busy": "2022-06-08T08:40:12.288494Z",
     "iopub.status.idle": "2022-06-08T08:41:23.937739Z",
     "shell.execute_reply": "2022-06-08T08:41:23.936805Z",
     "shell.execute_reply.started": "2022-06-08T08:40:12.288766Z"
    },
    "tags": []
   },
   "outputs": [
    {
     "data": {
      "application/vnd.jupyter.widget-view+json": {
       "model_id": "a54a985ff0d94b92a588350a7ab96820",
       "version_major": 2,
       "version_minor": 0
      },
      "text/plain": [
       "VBox()"
      ]
     },
     "metadata": {},
     "output_type": "display_data"
    },
    {
     "data": {
      "application/vnd.jupyter.widget-view+json": {
       "model_id": "",
       "version_major": 2,
       "version_minor": 0
      },
      "text/plain": [
       "FloatProgress(value=0.0, bar_style='info', description='Progress:', layout=Layout(height='25px', width='50%'),…"
      ]
     },
     "metadata": {},
     "output_type": "display_data"
    }
   ],
   "source": [
    "# Train the data\n",
    "# 1. Create the instance\n",
    "fpGrowth = FPGrowth(itemsCol=\"items\", minSupport=0.001, minConfidence=0.01) #hyper parameter\n",
    "# 2. Train/fit the data training to become a model\n",
    "model = fpGrowth.fit(df_input)"
   ]
  },
  {
   "cell_type": "markdown",
   "id": "6e41b150-9d1c-42c5-96d6-7c3b29325d92",
   "metadata": {},
   "source": [
    "# Evaluation\n",
    "\n",
    "At start i use minSupport at 0.1 and minConfidence at 0.1, but the output is very low.\n",
    "After i decrease the minSupport to 0.001 the output become higher.\n",
    "I think because in this cosmetic transaction is still highly dominated by several product, fairly uneven."
   ]
  },
  {
   "cell_type": "code",
   "execution_count": 20,
   "id": "aaa468d1-2cb8-4a4e-8c7f-8415c2c1e862",
   "metadata": {
    "execution": {
     "iopub.execute_input": "2022-06-08T08:41:37.597722Z",
     "iopub.status.busy": "2022-06-08T08:41:37.597384Z",
     "iopub.status.idle": "2022-06-08T08:42:11.060903Z",
     "shell.execute_reply": "2022-06-08T08:42:11.057441Z",
     "shell.execute_reply.started": "2022-06-08T08:41:37.597687Z"
    },
    "tags": []
   },
   "outputs": [
    {
     "data": {
      "application/vnd.jupyter.widget-view+json": {
       "model_id": "a732684b518a49c89a5fe4209bbf1690",
       "version_major": 2,
       "version_minor": 0
      },
      "text/plain": [
       "VBox()"
      ]
     },
     "metadata": {},
     "output_type": "display_data"
    },
    {
     "data": {
      "application/vnd.jupyter.widget-view+json": {
       "model_id": "",
       "version_major": 2,
       "version_minor": 0
      },
      "text/plain": [
       "FloatProgress(value=0.0, bar_style='info', description='Progress:', layout=Layout(height='25px', width='50%'),…"
      ]
     },
     "metadata": {},
     "output_type": "display_data"
    },
    {
     "name": "stdout",
     "output_type": "stream",
     "text": [
      "+------------------+----+\n",
      "|             items|freq|\n",
      "+------------------+----+\n",
      "|         [5870111]| 297|\n",
      "|         [5834736]| 213|\n",
      "|         [5862688]| 163|\n",
      "|         [5569528]| 136|\n",
      "|         [5820744]| 116|\n",
      "|         [5682471]| 103|\n",
      "|         [5809910]|5100|\n",
      "|         [5888070]| 136|\n",
      "|         [5889183]| 116|\n",
      "|         [5861113]| 103|\n",
      "|         [5854897]|2765|\n",
      "|[5854897, 5809910]| 229|\n",
      "|         [5736284]| 295|\n",
      "|           [60183]| 213|\n",
      "|         [5802162]| 163|\n",
      "|         [5809912]|2117|\n",
      "|[5809912, 5854897]| 100|\n",
      "|[5809912, 5809910]|1045|\n",
      "|         [5745313]| 295|\n",
      "|         [5802650]| 212|\n",
      "+------------------+----+\n",
      "only showing top 20 rows\n",
      "\n",
      "/mnt/yarn/usercache/livy/appcache/application_1654670452059_0004/container_1654670452059_0004_01_000001/pyspark.zip/pyspark/sql/context.py:127: FutureWarning: Deprecated in 3.0.0. Use SparkSession.builder.getOrCreate() instead."
     ]
    }
   ],
   "source": [
    "model.freqItemsets.show()"
   ]
  },
  {
   "cell_type": "code",
   "execution_count": 21,
   "id": "b3a2842f-cb37-4d7b-be92-1db99d72efec",
   "metadata": {
    "execution": {
     "iopub.execute_input": "2022-06-08T08:42:18.191138Z",
     "iopub.status.busy": "2022-06-08T08:42:18.190772Z",
     "iopub.status.idle": "2022-06-08T08:42:59.908933Z",
     "shell.execute_reply": "2022-06-08T08:42:59.901487Z",
     "shell.execute_reply.started": "2022-06-08T08:42:18.191081Z"
    },
    "tags": []
   },
   "outputs": [
    {
     "data": {
      "application/vnd.jupyter.widget-view+json": {
       "model_id": "ceab95fddbbf419eb84662c9d1f10586",
       "version_major": 2,
       "version_minor": 0
      },
      "text/plain": [
       "VBox()"
      ]
     },
     "metadata": {},
     "output_type": "display_data"
    },
    {
     "data": {
      "application/vnd.jupyter.widget-view+json": {
       "model_id": "",
       "version_major": 2,
       "version_minor": 0
      },
      "text/plain": [
       "FloatProgress(value=0.0, bar_style='info', description='Progress:', layout=Layout(height='25px', width='50%'),…"
      ]
     },
     "metadata": {},
     "output_type": "display_data"
    },
    {
     "name": "stdout",
     "output_type": "stream",
     "text": [
      "+--------------------+----------+-------------------+------------------+--------------------+\n",
      "|          antecedent|consequent|         confidence|              lift|             support|\n",
      "+--------------------+----------+-------------------+------------------+--------------------+\n",
      "|              [5013]| [5854897]|0.15717092337917485| 5.243369795755958|0.001734548963064948|\n",
      "|              [5013]| [5700037]|0.09233791748526522| 4.029104315323235|0.001019047515800...|\n",
      "|              [5013]| [5809910]| 0.0962671905697446| 1.741171462691167|0.001062411239877...|\n",
      "|              [5013]|    [4938]| 0.1031434184675835|13.650298923537022|0.001138297757011...|\n",
      "|              [5013]| [5857360]|0.12868369351669942|18.489361278911066|0.001420161963509...|\n",
      "|  [5584840, 5584844]| [5584838]| 0.8467741935483871|333.79911083540117|0.001138297757011...|\n",
      "|  [5584840, 5584844]| [5584836]| 0.8709677419354839|266.91254956596293| 0.00117082055006884|\n",
      "|           [5857007]| [5817702]| 0.1769352290679305|22.145232476137195|0.001214184274145...|\n",
      "|           [5836488]| [5836489]|  0.474025974025974|   165.62718909878|0.001582775928796765|\n",
      "|           [5804663]| [5804662]|0.41414141414141414| 163.9555642259505|0.001777912687141...|\n",
      "|           [5804663]| [5804665]| 0.4015151515151515| 162.4428163211058|0.001723708032045792|\n",
      "|           [5804663]| [5804667]| 0.4166666666666667| 169.3153450807636|0.001788753618160...|\n",
      "|           [5804663]| [5804660]|0.39646464646464646|169.31059436962212|0.001702026170007...|\n",
      "|[5816170, 5809912...| [5809911]| 0.5201612903225806|42.536558424845566|0.001398480101471...|\n",
      "|              [4554]|    [4607]|0.43103448275862066| 87.19279340592861|0.001084093101915...|\n",
      "|           [5854832]| [5809910]| 0.4773662551440329| 8.634057935931574|0.001257547998222...|\n",
      "|  [5875322, 5875320]| [5875321]| 0.7698412698412699|200.60019280781995|0.001051570308858...|\n",
      "|           [5814516]| [5814518]|  0.463519313304721|356.30343347639484| 0.00117082055006884|\n",
      "|           [5814516]| [5814517]|  0.871244635193133|372.06582816722295|0.002200708996888653|\n",
      "|           [5816170]| [5809912]|0.33159268929503916|14.448325195390787|0.004130394718298408|\n",
      "+--------------------+----------+-------------------+------------------+--------------------+\n",
      "only showing top 20 rows"
     ]
    }
   ],
   "source": [
    "model.associationRules.show()"
   ]
  },
  {
   "cell_type": "markdown",
   "id": "8ce4bda8-d004-44f6-a66f-8ff3123035cc",
   "metadata": {},
   "source": [
    "# Deployment\n",
    "\n",
    "The predicted result is saved in s3://nabil-fikri-9191919122/data-output/predicted_res/\n",
    "The model is saved in s3://nabil-fikri-9191919122/data-output/hasil/"
   ]
  },
  {
   "cell_type": "code",
   "execution_count": 24,
   "id": "fad1483a-b3ed-497e-a83c-c4a58d44d873",
   "metadata": {
    "execution": {
     "iopub.execute_input": "2022-06-08T08:44:14.082476Z",
     "iopub.status.busy": "2022-06-08T08:44:14.082042Z",
     "iopub.status.idle": "2022-06-08T08:44:31.517266Z",
     "shell.execute_reply": "2022-06-08T08:44:31.515960Z",
     "shell.execute_reply.started": "2022-06-08T08:44:14.082423Z"
    },
    "tags": []
   },
   "outputs": [
    {
     "data": {
      "application/vnd.jupyter.widget-view+json": {
       "model_id": "49110f52fe304f2ea710056e075a53b0",
       "version_major": 2,
       "version_minor": 0
      },
      "text/plain": [
       "VBox()"
      ]
     },
     "metadata": {},
     "output_type": "display_data"
    },
    {
     "data": {
      "application/vnd.jupyter.widget-view+json": {
       "model_id": "",
       "version_major": 2,
       "version_minor": 0
      },
      "text/plain": [
       "FloatProgress(value=0.0, bar_style='info', description='Progress:', layout=Layout(height='25px', width='50%'),…"
      ]
     },
     "metadata": {},
     "output_type": "display_data"
    },
    {
     "name": "stdout",
     "output_type": "stream",
     "text": [
      "+---+--------------------+\n",
      "| id|               items|\n",
      "+---+--------------------+\n",
      "|123|  [5809910, 5854897]|\n",
      "|456|[55854897, 582366...|\n",
      "|666|           [5854899]|\n",
      "|124|           [5809910]|\n",
      "|125|           [5854897]|\n",
      "+---+--------------------+"
     ]
    }
   ],
   "source": [
    "# Prepare the input test\n",
    "test = spark.createDataFrame(\n",
    "    [\n",
    "     (\"123\", [\"5809910\", \"5854897\"]),\n",
    "     (\"456\", [\"55854897\", \"5823667\", \"5854899\"]),\n",
    "     (\"666\", [\"5854899\"]),\n",
    "     (\"124\", [\"5809910\"]),\n",
    "     (\"125\", [\"5854897\"]),\n",
    "    ],\n",
    "    [\"id\", \"items\"]\n",
    ")\n",
    "\n",
    "test.show()"
   ]
  },
  {
   "cell_type": "code",
   "execution_count": 25,
   "id": "40da2ab5-cab2-406c-907d-14afc7b3c780",
   "metadata": {
    "execution": {
     "iopub.execute_input": "2022-06-08T08:44:35.449579Z",
     "iopub.status.busy": "2022-06-08T08:44:35.449109Z",
     "iopub.status.idle": "2022-06-08T08:44:46.940197Z",
     "shell.execute_reply": "2022-06-08T08:44:46.938978Z",
     "shell.execute_reply.started": "2022-06-08T08:44:35.449493Z"
    },
    "tags": []
   },
   "outputs": [
    {
     "data": {
      "application/vnd.jupyter.widget-view+json": {
       "model_id": "f182d3591a664e9b9f67aaa9d3d232d8",
       "version_major": 2,
       "version_minor": 0
      },
      "text/plain": [
       "VBox()"
      ]
     },
     "metadata": {},
     "output_type": "display_data"
    },
    {
     "data": {
      "application/vnd.jupyter.widget-view+json": {
       "model_id": "",
       "version_major": 2,
       "version_minor": 0
      },
      "text/plain": [
       "FloatProgress(value=0.0, bar_style='info', description='Progress:', layout=Layout(height='25px', width='50%'),…"
      ]
     },
     "metadata": {},
     "output_type": "display_data"
    },
    {
     "name": "stdout",
     "output_type": "stream",
     "text": [
      "+---+--------------------+--------------------+\n",
      "| id|               items|          prediction|\n",
      "+---+--------------------+--------------------+\n",
      "|123|  [5809910, 5854897]|[5809912, 5700037...|\n",
      "|456|[55854897, 582366...|  [5819894, 5836517]|\n",
      "|666|           [5854899]|           [5836517]|\n",
      "|124|           [5809910]|[5854897, 5809912...|\n",
      "|125|           [5854897]|[5809910, 5809912...|\n",
      "+---+--------------------+--------------------+"
     ]
    }
   ],
   "source": [
    "# Predict the input based on the model\n",
    "result = model.transform(test)\n",
    "result.show()"
   ]
  },
  {
   "cell_type": "code",
   "execution_count": 26,
   "id": "6f72bee4-8989-46c0-9396-adda02dd8671",
   "metadata": {
    "execution": {
     "iopub.execute_input": "2022-06-08T08:45:03.241080Z",
     "iopub.status.busy": "2022-06-08T08:45:03.240715Z",
     "iopub.status.idle": "2022-06-08T08:45:04.043042Z",
     "shell.execute_reply": "2022-06-08T08:45:04.041980Z",
     "shell.execute_reply.started": "2022-06-08T08:45:03.241045Z"
    }
   },
   "outputs": [
    {
     "data": {
      "application/vnd.jupyter.widget-view+json": {
       "model_id": "ad0b6f26aff546cdb6a8f4d40d92caab",
       "version_major": 2,
       "version_minor": 0
      },
      "text/plain": [
       "VBox()"
      ]
     },
     "metadata": {},
     "output_type": "display_data"
    },
    {
     "data": {
      "application/vnd.jupyter.widget-view+json": {
       "model_id": "",
       "version_major": 2,
       "version_minor": 0
      },
      "text/plain": [
       "FloatProgress(value=0.0, bar_style='info', description='Progress:', layout=Layout(height='25px', width='50%'),…"
      ]
     },
     "metadata": {},
     "output_type": "display_data"
    },
    {
     "name": "stdout",
     "output_type": "stream",
     "text": [
      "+---+------------------+----------+\n",
      "| id|             items|prediction|\n",
      "+---+------------------+----------+\n",
      "|123|[5809910, 5854897]|   5809912|\n",
      "|123|[5809910, 5854897]|   5700037|\n",
      "|123|[5809910, 5854897]|   5802432|\n",
      "|123|[5809910, 5854897]|   5751422|\n",
      "|123|[5809910, 5854897]|   5815662|\n",
      "|123|[5809910, 5854897]|      5304|\n",
      "|123|[5809910, 5854897]|   5849033|\n",
      "|123|[5809910, 5854897]|   5751383|\n",
      "|123|[5809910, 5854897]|   5792800|\n",
      "|123|[5809910, 5854897]|   5686925|\n",
      "|123|[5809910, 5854897]|   5816170|\n",
      "|123|[5809910, 5854897]|   5809911|\n",
      "|123|[5809910, 5854897]|      5013|\n",
      "|123|[5809910, 5854897]|   5687151|\n",
      "|123|[5809910, 5854897]|   5862943|\n",
      "|123|[5809910, 5854897]|   5789668|\n",
      "|123|[5809910, 5854897]|   5814046|\n",
      "|123|[5809910, 5854897]|   5649219|\n",
      "|123|[5809910, 5854897]|   5816166|\n",
      "|123|[5809910, 5854897]|   5816172|\n",
      "+---+------------------+----------+\n",
      "only showing top 20 rows"
     ]
    }
   ],
   "source": [
    "# Convert array of values into rows\n",
    "result = result.select(result.id, result.items, explode(result.prediction).alias(\"prediction\"))\n",
    "result.show()"
   ]
  },
  {
   "cell_type": "code",
   "execution_count": 27,
   "id": "8b3a8e45-04a6-4829-b317-f3fa9185dd7f",
   "metadata": {
    "execution": {
     "iopub.execute_input": "2022-06-08T08:45:09.089774Z",
     "iopub.status.busy": "2022-06-08T08:45:09.089465Z",
     "iopub.status.idle": "2022-06-08T08:45:09.406471Z",
     "shell.execute_reply": "2022-06-08T08:45:09.402113Z",
     "shell.execute_reply.started": "2022-06-08T08:45:09.089740Z"
    }
   },
   "outputs": [
    {
     "data": {
      "application/vnd.jupyter.widget-view+json": {
       "model_id": "0823eec18dc04fbcabd660fe1857af57",
       "version_major": 2,
       "version_minor": 0
      },
      "text/plain": [
       "VBox()"
      ]
     },
     "metadata": {},
     "output_type": "display_data"
    },
    {
     "data": {
      "application/vnd.jupyter.widget-view+json": {
       "model_id": "",
       "version_major": 2,
       "version_minor": 0
      },
      "text/plain": [
       "FloatProgress(value=0.0, bar_style='info', description='Progress:', layout=Layout(height='25px', width='50%'),…"
      ]
     },
     "metadata": {},
     "output_type": "display_data"
    }
   ],
   "source": [
    "# Save original dataframe into temporary table\n",
    "df.createOrReplaceTempView(\"transactions\")"
   ]
  },
  {
   "cell_type": "code",
   "execution_count": 28,
   "id": "a988edef-a2ca-48e6-a189-c7c70499ba82",
   "metadata": {
    "execution": {
     "iopub.execute_input": "2022-06-08T08:45:10.930769Z",
     "iopub.status.busy": "2022-06-08T08:45:10.929868Z",
     "iopub.status.idle": "2022-06-08T08:45:11.274996Z",
     "shell.execute_reply": "2022-06-08T08:45:11.273613Z",
     "shell.execute_reply.started": "2022-06-08T08:45:10.930712Z"
    }
   },
   "outputs": [
    {
     "data": {
      "application/vnd.jupyter.widget-view+json": {
       "model_id": "3107f325fd7943a0906ecff2feb8f1db",
       "version_major": 2,
       "version_minor": 0
      },
      "text/plain": [
       "VBox()"
      ]
     },
     "metadata": {},
     "output_type": "display_data"
    },
    {
     "data": {
      "application/vnd.jupyter.widget-view+json": {
       "model_id": "",
       "version_major": 2,
       "version_minor": 0
      },
      "text/plain": [
       "FloatProgress(value=0.0, bar_style='info', description='Progress:', layout=Layout(height='25px', width='50%'),…"
      ]
     },
     "metadata": {},
     "output_type": "display_data"
    }
   ],
   "source": [
    "# You can use Spark SQL Context to do query\n",
    "# In this query, we want to select the StockCode and Description and save it into products table\n",
    "spark.sql(\"SELECT DISTINCT product_id, brand, price FROM transactions\").createOrReplaceTempView(\"products\")"
   ]
  },
  {
   "cell_type": "code",
   "execution_count": 29,
   "id": "841ee7bd-8faa-4526-b3ad-bf0bb3b833d1",
   "metadata": {
    "execution": {
     "iopub.execute_input": "2022-06-08T08:45:12.499195Z",
     "iopub.status.busy": "2022-06-08T08:45:12.498899Z",
     "iopub.status.idle": "2022-06-08T08:45:56.054676Z",
     "shell.execute_reply": "2022-06-08T08:45:56.053693Z",
     "shell.execute_reply.started": "2022-06-08T08:45:12.499161Z"
    }
   },
   "outputs": [
    {
     "data": {
      "application/vnd.jupyter.widget-view+json": {
       "model_id": "2d24e797675547e681ce0a8b2a5c5e0c",
       "version_major": 2,
       "version_minor": 0
      },
      "text/plain": [
       "VBox()"
      ]
     },
     "metadata": {},
     "output_type": "display_data"
    },
    {
     "data": {
      "application/vnd.jupyter.widget-view+json": {
       "model_id": "",
       "version_major": 2,
       "version_minor": 0
      },
      "text/plain": [
       "FloatProgress(value=0.0, bar_style='info', description='Progress:', layout=Layout(height='25px', width='50%'),…"
      ]
     },
     "metadata": {},
     "output_type": "display_data"
    },
    {
     "name": "stdout",
     "output_type": "stream",
     "text": [
      "+----------+-----------+-----+\n",
      "|product_id|      brand|price|\n",
      "+----------+-----------+-----+\n",
      "|   5622678|   severina| 9.11|\n",
      "|   5646937|       null| 5.56|\n",
      "|   5895781|       null| 1.21|\n",
      "|   5857005|     runail| 3.97|\n",
      "|   5701880|    bluesky| 2.97|\n",
      "|   5645616|        cnd|16.03|\n",
      "|   5894905|   jessnail| 1.10|\n",
      "|   5813856|       null| 3.97|\n",
      "|   5778113|     zinger| 5.40|\n",
      "|   5813485|     masura| 1.73|\n",
      "|   5815777|beauty-free| 2.37|\n",
      "|   5875354|       null| 2.05|\n",
      "|   5697334|       null| 1.84|\n",
      "|   5861347|       null| 3.65|\n",
      "|   5803102|       null| 3.97|\n",
      "|   5911777|  dartnails| 1.27|\n",
      "|   5850570|       null| 6.35|\n",
      "|   5848082|       null| 9.52|\n",
      "|   5909983|      dewal|48.19|\n",
      "|   5797137|       null| 4.44|\n",
      "+----------+-----------+-----+\n",
      "only showing top 20 rows"
     ]
    }
   ],
   "source": [
    "spark.sql(\"SELECT * FROM products\").show()"
   ]
  },
  {
   "cell_type": "code",
   "execution_count": 30,
   "id": "aeeb7fd3-b446-41b8-b4f2-fa1478ab7783",
   "metadata": {
    "execution": {
     "iopub.execute_input": "2022-06-08T08:46:17.439764Z",
     "iopub.status.busy": "2022-06-08T08:46:17.439308Z",
     "iopub.status.idle": "2022-06-08T08:46:17.645312Z",
     "shell.execute_reply": "2022-06-08T08:46:17.644162Z",
     "shell.execute_reply.started": "2022-06-08T08:46:17.439708Z"
    }
   },
   "outputs": [
    {
     "data": {
      "application/vnd.jupyter.widget-view+json": {
       "model_id": "1f03642cbe8f44198865451c12fdf143",
       "version_major": 2,
       "version_minor": 0
      },
      "text/plain": [
       "VBox()"
      ]
     },
     "metadata": {},
     "output_type": "display_data"
    },
    {
     "data": {
      "application/vnd.jupyter.widget-view+json": {
       "model_id": "",
       "version_major": 2,
       "version_minor": 0
      },
      "text/plain": [
       "FloatProgress(value=0.0, bar_style='info', description='Progress:', layout=Layout(height='25px', width='50%'),…"
      ]
     },
     "metadata": {},
     "output_type": "display_data"
    }
   ],
   "source": [
    "# Create temporary table from result DataFrame\n",
    "result.createOrReplaceTempView(\"result\")"
   ]
  },
  {
   "cell_type": "code",
   "execution_count": 31,
   "id": "0912d4de-9a6e-443b-88ac-6c8ea9229bb0",
   "metadata": {
    "execution": {
     "iopub.execute_input": "2022-06-08T08:46:19.292899Z",
     "iopub.status.busy": "2022-06-08T08:46:19.292206Z",
     "iopub.status.idle": "2022-06-08T08:47:03.073549Z",
     "shell.execute_reply": "2022-06-08T08:47:03.072464Z",
     "shell.execute_reply.started": "2022-06-08T08:46:19.292841Z"
    },
    "tags": []
   },
   "outputs": [
    {
     "data": {
      "application/vnd.jupyter.widget-view+json": {
       "model_id": "61825e08ddf34b7a839ef92f7219d2d6",
       "version_major": 2,
       "version_minor": 0
      },
      "text/plain": [
       "VBox()"
      ]
     },
     "metadata": {},
     "output_type": "display_data"
    },
    {
     "data": {
      "application/vnd.jupyter.widget-view+json": {
       "model_id": "",
       "version_major": 2,
       "version_minor": 0
      },
      "text/plain": [
       "FloatProgress(value=0.0, bar_style='info', description='Progress:', layout=Layout(height='25px', width='50%'),…"
      ]
     },
     "metadata": {},
     "output_type": "display_data"
    },
    {
     "name": "stdout",
     "output_type": "stream",
     "text": [
      "+---+------------------+----------+--------+-----+\n",
      "| id|             items|prediction|   brand|price|\n",
      "+---+------------------+----------+--------+-----+\n",
      "|123|[5809910, 5854897]|   5816166| grattol| 5.24|\n",
      "|123|[5809910, 5854897]|   5816166|    null| 0.00|\n",
      "|123|[5809910, 5854897]|   5687151|    null| 1.90|\n",
      "|123|[5809910, 5854897]|   5687151|    null| 0.00|\n",
      "|123|[5809910, 5854897]|   5816173|    null| 0.00|\n",
      "|123|[5809910, 5854897]|   5816173| grattol| 5.24|\n",
      "|123|[5809910, 5854897]|   5793703|    null| 0.00|\n",
      "|123|[5809910, 5854897]|   5793703|   irisk| 2.22|\n",
      "|123|[5809910, 5854897]|   5751383|     uno| 8.76|\n",
      "|123|[5809910, 5854897]|   5751383|    null| 0.00|\n",
      "|123|[5809910, 5854897]|   5751383|     uno|10.32|\n",
      "|123|[5809910, 5854897]|   5751383|     uno| 8.78|\n",
      "|123|[5809910, 5854897]|   5809911| grattol| 5.24|\n",
      "|123|[5809910, 5854897]|   5809911|    null| 0.00|\n",
      "|123|[5809910, 5854897]|   5843836|    null| 0.00|\n",
      "|123|[5809910, 5854897]|   5843836|    null| 0.38|\n",
      "|123|[5809910, 5854897]|   5792800|    null|10.32|\n",
      "|123|[5809910, 5854897]|   5792800|    null| 0.00|\n",
      "|123|[5809910, 5854897]|   5622677|severina| 3.16|\n",
      "|123|[5809910, 5854897]|   5622677|    null| 0.00|\n",
      "+---+------------------+----------+--------+-----+\n",
      "only showing top 20 rows"
     ]
    }
   ],
   "source": [
    "to_output = spark.sql(\"SELECT r.id, r.items, r.prediction, p.brand, p.price FROM result r INNER JOIN products p ON r.prediction = p.product_id ORDER BY r.id\")\n",
    "to_output.show()"
   ]
  },
  {
   "cell_type": "code",
   "execution_count": 32,
   "id": "698c2a02-7cd8-4ab5-b6e7-204c9139ee1e",
   "metadata": {
    "execution": {
     "iopub.execute_input": "2022-06-08T08:47:09.779801Z",
     "iopub.status.busy": "2022-06-08T08:47:09.779357Z",
     "iopub.status.idle": "2022-06-08T08:47:55.301648Z",
     "shell.execute_reply": "2022-06-08T08:47:55.300560Z",
     "shell.execute_reply.started": "2022-06-08T08:47:09.779747Z"
    },
    "tags": []
   },
   "outputs": [
    {
     "data": {
      "application/vnd.jupyter.widget-view+json": {
       "model_id": "36bf65a37fec450f832b560fe3014686",
       "version_major": 2,
       "version_minor": 0
      },
      "text/plain": [
       "VBox()"
      ]
     },
     "metadata": {},
     "output_type": "display_data"
    },
    {
     "data": {
      "application/vnd.jupyter.widget-view+json": {
       "model_id": "",
       "version_major": 2,
       "version_minor": 0
      },
      "text/plain": [
       "FloatProgress(value=0.0, bar_style='info', description='Progress:', layout=Layout(height='25px', width='50%'),…"
      ]
     },
     "metadata": {},
     "output_type": "display_data"
    },
    {
     "name": "stdout",
     "output_type": "stream",
     "text": [
      "root\n",
      " |-- id: string (nullable = true)\n",
      " |-- items: array (nullable = true)\n",
      " |    |-- element: string (containsNull = true)\n",
      " |-- prediction: string (nullable = true)\n",
      " |-- brand: string (nullable = true)\n",
      " |-- price: string (nullable = true)\n",
      "\n",
      "Predicted Result was successfully saved to s3: s3://nabil-fikri-9191919122/data-output/predicted_res/"
     ]
    }
   ],
   "source": [
    "to_output.printSchema()\n",
    "to_output.withColumn('items', col('items').cast('string')).write.csv(S3_DATA_OUTPUT_PATH)\n",
    "# print(type(to_output))\n",
    "print('Predicted Result was successfully saved to s3: %s' % S3_DATA_OUTPUT_PATH)"
   ]
  },
  {
   "cell_type": "code",
   "execution_count": 33,
   "id": "7a6591c3-925b-4e90-a797-96e01fd19812",
   "metadata": {
    "execution": {
     "iopub.execute_input": "2022-06-08T08:47:59.171820Z",
     "iopub.status.busy": "2022-06-08T08:47:59.171470Z",
     "iopub.status.idle": "2022-06-08T08:48:36.695535Z",
     "shell.execute_reply": "2022-06-08T08:48:36.694452Z",
     "shell.execute_reply.started": "2022-06-08T08:47:59.171750Z"
    }
   },
   "outputs": [
    {
     "data": {
      "application/vnd.jupyter.widget-view+json": {
       "model_id": "e7a3895a5b124f079cea5d946c6d65c8",
       "version_major": 2,
       "version_minor": 0
      },
      "text/plain": [
       "VBox()"
      ]
     },
     "metadata": {},
     "output_type": "display_data"
    },
    {
     "data": {
      "application/vnd.jupyter.widget-view+json": {
       "model_id": "",
       "version_major": 2,
       "version_minor": 0
      },
      "text/plain": [
       "FloatProgress(value=0.0, bar_style='info', description='Progress:', layout=Layout(height='25px', width='50%'),…"
      ]
     },
     "metadata": {},
     "output_type": "display_data"
    },
    {
     "name": "stdout",
     "output_type": "stream",
     "text": [
      "Model was successfully saved."
     ]
    }
   ],
   "source": [
    "model.save(S3_DATA_MODEL_OUTPUT_PATH)\n",
    "print('Model was successfully saved.')"
   ]
  },
  {
   "cell_type": "markdown",
   "id": "5cb70ec1-d20d-4c56-8703-41e1996d038b",
   "metadata": {},
   "source": []
  }
 ],
 "metadata": {
  "kernelspec": {
   "display_name": "PySpark",
   "language": "python",
   "name": "pysparkkernel"
  },
  "language_info": {
   "codemirror_mode": {
    "name": "python",
    "version": 3
   },
   "file_extension": ".py",
   "mimetype": "text/x-python",
   "name": "pyspark",
   "pygments_lexer": "python3"
  }
 },
 "nbformat": 4,
 "nbformat_minor": 5
}
